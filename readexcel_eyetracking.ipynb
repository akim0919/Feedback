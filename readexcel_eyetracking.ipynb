{
 "cells": [
  {
   "cell_type": "code",
   "execution_count": null,
   "id": "c32f25a6",
   "metadata": {},
   "outputs": [],
   "source": [
    "from openpyxl import load_workbook\n",
    "\n",
    "load_wb = load_workbook(\"/Users/seinkim/Documents/Eyetracking/Eyetracking Metrics_이호석_set1357.xlsx\", data_only=True)\n",
    "\n",
    "load_ws = load_wb['Tot Fixation dur']\n",
    "\n",
    "print(load_ws['F15'].value)"
   ]
  },
  {
   "cell_type": "code",
   "execution_count": null,
   "id": "dc32ec24",
   "metadata": {},
   "outputs": [],
   "source": []
  }
 ],
 "metadata": {
  "kernelspec": {
   "display_name": "Python 3",
   "language": "python",
   "name": "python3"
  }
 },
 "nbformat": 4,
 "nbformat_minor": 5
}
